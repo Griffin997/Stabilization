{
 "cells": [
  {
   "cell_type": "markdown",
   "metadata": {},
   "source": [
    "# Import Libraries"
   ]
  },
  {
   "cell_type": "code",
   "execution_count": 59,
   "metadata": {},
   "outputs": [],
   "source": [
    "#Preparing all libraries\n",
    "import matplotlib.pyplot as plt\n",
    "from mpl_toolkits import mplot3d\n",
    "import numpy as np\n",
    "from scipy.optimize import curve_fit\n",
    "from scipy.optimize import golden\n",
    "from scipy.optimize import fminbound\n",
    "from scipy.linalg import svd\n",
    "from scipy.stats import trim_mean\n",
    "import addcopyfighandler\n",
    "import statistics\n",
    "import math\n",
    "import time\n",
    "from tqdm import trange\n",
    "from matplotlib import cm"
   ]
  },
  {
   "cell_type": "markdown",
   "metadata": {},
   "source": [
    "# Initialize Parameters"
   ]
  },
  {
   "cell_type": "code",
   "execution_count": 60,
   "metadata": {},
   "outputs": [],
   "source": [
    "#### Grid Parameters\n",
    "TE_array = np.arange(8, 512, 8) #ms units\n",
    "\n",
    "#### NLLS parameters\n",
    "lower_bound = (-1,-1,1,1)\n",
    "upper_bound = (1,1,300,1000)\n",
    "\n",
    "\n",
    "#### Model parameters\n",
    "c1 = 0.5\n",
    "c2 = 0.5\n",
    "T21 = 45\n",
    "T22 = 200\n",
    "T11 = 600\n",
    "T12 = 1200\n",
    "\n",
    "true_params = np.array([T11, T12, c1, c2, T21, T22])\n",
    "\n",
    "#### Nullpoint Values\n",
    "TI1star = np.log(2)*T11\n",
    "TI2star = np.log(2)*T12\n",
    "\n",
    "#### Process parameters\n",
    "SNR_fixed = 1000\n",
    "num_iters = 10\n",
    "rand_seed = 10\n",
    "num_starts = 20"
   ]
  },
  {
   "cell_type": "markdown",
   "metadata": {},
   "source": [
    "# Initialize Signal Functions"
   ]
  },
  {
   "cell_type": "code",
   "execution_count": 61,
   "metadata": {},
   "outputs": [],
   "source": [
    "def S_biX_6p(TE, TI, T11, T12, c1, c2, T21, T22):\n",
    "    exp1 = c1*(1-2*np.exp(-TI/T11))*np.exp(-TE/T21)\n",
    "    exp2 = c2*(1-2*np.exp(-TI/T12))*np.exp(-TE/T22)\n",
    "    return exp1 + exp2\n",
    "\n",
    "def S_biX_4p(TE, d1, d2, T21, T22):\n",
    "    exp1 = d1*np.exp(-TE/T21)\n",
    "    exp2 = d2*np.exp(-TE/T22)\n",
    "    return exp1 + exp2\n",
    "\n",
    "#Defining the monoExp function of interest\n",
    "def S_moX_2p(TE, d, T2):\n",
    "    return d*np.exp(-TE/T2)\n",
    "\n",
    "def add_noise(data,SNR):\n",
    "    sigma = 1/SNR #np.max(np.abs(data))/SNR\n",
    "    noise = np.random.normal(0,sigma,data.shape)\n",
    "    noised_data = data + noise\n",
    "    return noised_data\n",
    "\n",
    "def get_func_bounds(function):\n",
    "    f_name = function.__name__\n",
    "    if f_name == \"S_biX_4p\":\n",
    "        lower_bound = (-1,-1,1,1)\n",
    "        upper_bound = (1,1,300,1000)\n",
    "    elif f_name == \"S_moX_2p\":\n",
    "        lower_bound = (-1,1)\n",
    "        upper_bound = (1,1000)\n",
    "    else:\n",
    "        raise Exception(\"Not a valid function: \" + f_name)\n",
    "\n",
    "    return lower_bound, upper_bound"
   ]
  },
  {
   "cell_type": "markdown",
   "metadata": {},
   "source": [
    "# Initialize Process Functions"
   ]
  },
  {
   "cell_type": "code",
   "execution_count": 62,
   "metadata": {},
   "outputs": [],
   "source": [
    "def check_param_order(popt):\n",
    "    #Reshaping of array to ensure that the parameter pairs all end up in the appropriate place - ensures that T22 > T21\n",
    "    if (popt[-1] < popt[-2]): #We want by convention to make sure that T21 is <= T22\n",
    "        for pi in range(np.size(popt)//2):\n",
    "            p_hold = popt[2*pi]\n",
    "            popt[2*pi] = popt[2*pi+1]\n",
    "            popt[2*pi] = p_hold\n",
    "    return popt\n",
    "\n",
    "def estimate_NLLS(data, tdata, function):\n",
    "\n",
    "    lb, ub = get_func_bounds(function)\n",
    "\n",
    "    init_p = tuple(np.add(np.subtract(ub,lb)*np.random.uniform(0,1,np.size(lb)),lb))\n",
    "\n",
    "    popt, pcov = curve_fit(function, tdata, data, bounds = (lb, ub), p0=init_p, max_nfev = 1500)\n",
    "    \n",
    "    popt = check_param_order(popt)\n",
    "        \n",
    "    return popt\n",
    "\n",
    "def generate_noised_sigs(TI, tdata, SNR = SNR_fixed, params = true_params, iterations = num_iters, seed = rand_seed):\n",
    "    noised_ensemble = np.zeros((iterations,np.size(tdata)))\n",
    "    for iter in range(iterations):\n",
    "        np.random.seed(seed+iter)\n",
    "        true_sig = S_biX_6p(tdata, TI, *params)\n",
    "        noised_sig = add_noise(true_sig, SNR)\n",
    "        noised_ensemble[iter,:] = noised_sig\n",
    "    return noised_ensemble"
   ]
  },
  {
   "cell_type": "markdown",
   "metadata": {},
   "source": [
    "# Initialize Objective Functions"
   ]
  },
  {
   "cell_type": "code",
   "execution_count": 63,
   "metadata": {},
   "outputs": [],
   "source": [
    "def calc_RSS_noise(TI, tdata, function, starts = num_starts):\n",
    "\n",
    "    data = generate_noised_sigs(TI, tdata)\n",
    "\n",
    "    iteration_RSS_values = np.zeros((data.shape[0],1))\n",
    "    \n",
    "    for i in range(data.shape[0]):\n",
    "        noisey_signal = data[i,:]\n",
    "\n",
    "        recreated_curves = np.zeros((starts,np.size(tdata)))\n",
    "        recreated_curves_RSS = np.zeros((starts,1))\n",
    "        recreated_popt = []                     #general to accomodate for different parameter sizes\n",
    "        for start in range(starts):\n",
    "            recreated_popt.append(estimate_NLLS(noisey_signal, tdata, function))\n",
    "            recreated_curves[start,:] = function(tdata, *recreated_popt[start])\n",
    "            recreated_curves_RSS[start] = np.sum((noisey_signal - recreated_curves[start,:])**2)\n",
    "\n",
    "        iteration_RSS_values[i] = np.min(recreated_curves_RSS)\n",
    "\n",
    "    return np.mean(iteration_RSS_values)\n",
    "\n",
    "\n",
    "def calc_std(TI, tdata, function, param_select, starts = num_starts):\n",
    "\n",
    "    data = generate_noised_sigs(TI, tdata)\n",
    "\n",
    "    lb, ub = get_func_bounds(function)\n",
    "    assert(param_select < np.size(lb))\n",
    "\n",
    "    iteration_param_values = np.zeros((data.shape[0],np.size(lb)))\n",
    "    \n",
    "    for i in range(data.shape[0]):\n",
    "        noisey_signal = data[i,:]\n",
    "\n",
    "        recreated_curves = np.zeros((starts,np.size(tdata)))\n",
    "        recreated_curves_RSS = np.zeros((starts,1))\n",
    "        recreated_popt = []                     #general to accomodate for different parameter sizes\n",
    "        for start in range(starts):\n",
    "            recreated_popt.append(estimate_NLLS(noisey_signal, tdata, function))\n",
    "            recreated_curves[start,:] = function(tdata, *recreated_popt[start])\n",
    "            recreated_curves_RSS[start] = np.sum((noisey_signal - recreated_curves[start,:])**2)\n",
    "            \n",
    "        recreated_popt = np.array(recreated_popt)\n",
    "        iteration_param_values[i,:] = recreated_popt[np.argmin(recreated_curves_RSS),:]\n",
    "\n",
    "    std_values = -1*np.std(iteration_param_values, axis = 0) #have to invert to make it find a minimum\n",
    "\n",
    "    return std_values[param_select]\n"
   ]
  },
  {
   "cell_type": "markdown",
   "metadata": {},
   "source": [
    "# Running Optimization Functions"
   ]
  },
  {
   "cell_type": "code",
   "execution_count": 66,
   "metadata": {},
   "outputs": [
    {
     "name": "stdout",
     "output_type": "stream",
     "text": [
      "Golden Section Search Technique\n",
      "True Nullpoint 1 = 415.888\n",
      "True Nullpoint 2 = 831.777\n",
      "Estimated Nullpoint via RSS of moX = 414.590\n",
      "Estimated Nullpoint via std of biX = 718.034\n"
     ]
    }
   ],
   "source": [
    "minimum_TI_moX_RSS = golden(lambda TI: calc_RSS_noise(TI, TE_array, S_moX_2p), brack = (100,300,600), tol = 10**-1)\n",
    "\n",
    "minimum_TI_biX_std = golden(lambda TI: calc_std(TI, TE_array, S_biX_4p, 0), brack = (100,600), tol = 10**-1)\n",
    "\n",
    "print(\"Golden Section Search Technique\")\n",
    "print(\"True Nullpoint 1 = {:.3f}\".format(TI1star))\n",
    "print(\"True Nullpoint 2 = {:.3f}\".format(TI2star))\n",
    "print(\"Estimated Nullpoint via RSS of moX = {:.3f}\".format(minimum_TI_moX_RSS))\n",
    "print(\"Estimated Nullpoint via std of biX = {:.3f}\".format(minimum_TI_biX_std))"
   ]
  }
 ],
 "metadata": {
  "kernelspec": {
   "display_name": "Python 3.10.7 ('.grif_venv': venv)",
   "language": "python",
   "name": "python3"
  },
  "language_info": {
   "codemirror_mode": {
    "name": "ipython",
    "version": 3
   },
   "file_extension": ".py",
   "mimetype": "text/x-python",
   "name": "python",
   "nbconvert_exporter": "python",
   "pygments_lexer": "ipython3",
   "version": "3.10.7"
  },
  "orig_nbformat": 4,
  "vscode": {
   "interpreter": {
    "hash": "1f9461e57c8aaeccb5a4202f3eb0df437b94cded3914cf93be397abab25dc6de"
   }
  }
 },
 "nbformat": 4,
 "nbformat_minor": 2
}
