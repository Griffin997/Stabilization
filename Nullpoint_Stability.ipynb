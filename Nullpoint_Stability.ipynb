{
 "cells": [
  {
   "cell_type": "markdown",
   "metadata": {},
   "source": [
    "# Monte Carlo Nullpoint Approach - Code Description\n",
    "\n",
    "This is the central code for looking at nullpoints under a Jupyter Notebooks framework\n",
    "\n",
    "This is the python script for replicating the Bi,Spencer 2D stabilization technique with the intention of varying TI for Eq.3 to observe the TI related nullpoint - this code has the potential to look at a histogram for each TI value or to look at the standard deviation across the population for a range of TI values"
   ]
  },
  {
   "cell_type": "markdown",
   "metadata": {},
   "source": [
    "# Import Libraries"
   ]
  },
  {
   "cell_type": "code",
   "execution_count": 1,
   "metadata": {},
   "outputs": [],
   "source": [
    "#Preparing all libraries\n",
    "import matplotlib.pyplot as plt\n",
    "import numpy as np\n",
    "from scipy.optimize import curve_fit\n",
    "from scipy.linalg import svd\n",
    "import addcopyfighandler"
   ]
  },
  {
   "cell_type": "markdown",
   "metadata": {},
   "source": [
    "# Set Options"
   ]
  },
  {
   "cell_type": "code",
   "execution_count": 2,
   "metadata": {},
   "outputs": [],
   "source": [
    "#Initial Options\n",
    "histPlot = False\n",
    "stdPlot = True\n",
    "cNPlot = False"
   ]
  },
  {
   "cell_type": "markdown",
   "metadata": {},
   "source": [
    "# Initialize Parameters and Arrays"
   ]
  },
  {
   "cell_type": "code",
   "execution_count": 3,
   "metadata": {},
   "outputs": [],
   "source": [
    "#Assumed echo time points\n",
    "tdata = np.arange(8, 512, 8) #ms units\n",
    "\n",
    "######All Fixed parameters for code\n",
    "#Parameters held constant\n",
    "c1 = 0.3\n",
    "c2 = 0.7\n",
    "T21 = 60\n",
    "T22 = 45\n",
    "T11 = 400\n",
    "T12 = 1200\n",
    "\n",
    "realParams = np.array([c1, c2, T21, T22])\n",
    "\n",
    "#Information determing TI range\n",
    "TI_numPoints = 71\n",
    "TI_lb = 0.7\n",
    "TI_ub = 1.3\n",
    "assert(TI_ub>TI_lb)\n",
    "\n",
    "#Parameters that dictate process related features\n",
    "iterCount = 1000 #number of iterations that curveFit is applied\n",
    "SNR = 10000\n",
    "\n",
    "#Preparing TI array to loop through\n",
    "alpha_array = np.linspace(TI_lb,TI_ub,TI_numPoints)\n",
    "TI1star = np.log(2)*(T11)\n",
    "TI_array = alpha_array*TI1star\n",
    "\n",
    "#Initializing all the storage matrices\n",
    "ParamTitle = ['c1', 'c2', 'T21', 'T22']\n",
    "MonoTitle = ['d', 'T2']\n",
    "dTitle = ['d1', 'd2', ParamTitle[2], ParamTitle[3]]\n",
    "\n",
    "paramStore_2E = np.zeros([iterCount,np.size(ParamTitle)])\n",
    "paramStore_1E = np.zeros([iterCount,np.size(MonoTitle)])\n",
    "\n",
    "SNRStore = np.zeros([iterCount,np.size(TI_array)])\n",
    "stdStore = np.zeros([np.size(TI_array),np.size(ParamTitle)])\n",
    "dCoef_std = np.zeros([np.size(TI_array),np.size(dTitle)])\n",
    "mono_std = np.zeros([np.size(TI_array),np.size(MonoTitle)])\n",
    "std2Store = np.zeros([np.size(TI_array),np.size(ParamTitle)])\n",
    "\n",
    "Bmat1Store = np.zeros([iterCount,np.size(TI_array)])\n",
    "Bmat2Store = np.zeros([iterCount,np.size(TI_array)])\n",
    "Bmat3Store = np.zeros([iterCount,np.size(TI_array)])\n",
    "Bmat4Store = np.zeros([iterCount,np.size(TI_array)])"
   ]
  },
  {
   "cell_type": "markdown",
   "metadata": {},
   "source": [
    "# Define Functions"
   ]
  },
  {
   "cell_type": "code",
   "execution_count": 4,
   "metadata": {},
   "outputs": [],
   "source": [
    "#Defining the function of interest\n",
    "def biExp2D(tdata, TI, T11, T12, c1, c2, T21, T22):\n",
    "    exp1 = c1*(1-2*np.exp(-TI/T11))*np.exp(-tdata/T21)\n",
    "    exp2 = c2*(1-2*np.exp(-TI/T12))*np.exp(-tdata/T22)\n",
    "    return exp1 + exp2\n",
    "\n",
    "#Defining the monoExp function of interest\n",
    "def monoExp2D(tdata, d, T2):\n",
    "    return d*np.exp(-tdata/T2)\n",
    "\n",
    "# #Pulled from Ryan Neff's code\n",
    "def Jacobian_2D(TI, TE, T11, T12, c1, c2, T21, T22):\n",
    "    #Returns the Jacobian of our 6 parameter, 2D problem\n",
    "    dc1 = (1-2*np.exp(-TI/T11))*np.exp(-TE/T21)\n",
    "    dc2 = (1-2*np.exp(-TI/T12))*np.exp(-TE/T22)\n",
    "    dT11 = (-2*c1*TI/T11**2)*np.exp(-(TI/T11 + TE/T21))\n",
    "    dT12 = (-2*c2*TI/T12**2)*np.exp(-(TI/T12 + TE/T22))\n",
    "    dT21 = (c1*TE/T21**2)*(1-2*np.exp(-TI/T11))*np.exp(-TE/T21)\n",
    "    dT22 = (c2*TE/T22**2)*(1-2*np.exp(-TI/T12))*np.exp(-TE/T22)\n",
    "    \n",
    "    jacobian = np.stack((dc1, dc2, dT11, dT12, dT21, dT22), axis = -1)\n",
    "    return jacobian"
   ]
  },
  {
   "cell_type": "markdown",
   "metadata": {},
   "source": [
    "# Build Curve Fitting Dataset"
   ]
  },
  {
   "cell_type": "code",
   "execution_count": null,
   "metadata": {},
   "outputs": [],
   "source": [
    "#Looping through all TI values in the TI_array\n",
    "for k in range(np.size(TI_array)):\n",
    "\n",
    "    TI = TI_array[k]\n",
    "\n",
    "    true_d1 = c1*(1-2*np.exp(-TI/T11))\n",
    "    true_d2 = c2*(1-2*np.exp(-TI/T12))\n",
    "\n",
    "    trueDat = biExp2D(tdata,TI,T11,T12,*realParams)\n",
    "        \n",
    "\n",
    "    for i in range(iterCount):\n",
    "\n",
    "        #Determining the noise and add noise to data\n",
    "        noiseSigma = 1/SNR\n",
    "        noise = np.random.normal(0,noiseSigma,tdata.size)\n",
    "        noiseDat = trueDat + noise\n",
    "\n",
    "        #Experimental Signal to Noise Ratio Calculation\n",
    "        mSNR = noiseDat/noise\n",
    "        avgMSNR = np.absolute(np.mean(mSNR))\n",
    "        SNRStore[i,k] = avgMSNR\n",
    "\n",
    "        lb = (0,0,0,0)\n",
    "        ub = (1,1,np.inf,np.inf)\n",
    "\n",
    "        lb_1E = (-1,0)\n",
    "        ub_1E = (1,np.inf)\n",
    "\n",
    "        init_c1 = np.random.uniform(lb[0],ub[0])\n",
    "        init_c2 = np.random.uniform(init_c1,ub[1])\n",
    "        init_T21 = np.random.randint(2,100)\n",
    "        init_T22 = np.random.randint(1,init_T21)\n",
    "        init_p = [init_c1,init_c2,init_T21,init_T22]\n",
    "\n",
    "        popt_2E, pcov_2E = curve_fit(lambda t_dat,p1,p2,p3,p4 : biExp2D(t_dat,TI,T11,T12,p1,p2,p3,p4), tdata, noiseDat, p0 = init_p, bounds = [lb,ub])\n",
    "\n",
    "        popt_1E, pcov_1E = curve_fit(lambda t_dat,p1,p2 : monoExp2D(t_dat,p1,p2), tdata, noiseDat, bounds = [lb_1E,ub_1E])\n",
    "\n",
    "        #Reshaping of array to ensure that the parameter pairs all end up in the appropriate place\n",
    "        if (popt_2E[0] > popt_2E[1] and popt_2E[3] > popt_2E[2]):\n",
    "            p_hold = popt_2E[0]\n",
    "            popt_2E[0] = popt_2E[1]\n",
    "            popt_2E[1] = p_hold\n",
    "            p_hold = popt_2E[2]\n",
    "            popt_2E[2] = popt_2E[3]\n",
    "            popt_2E[3] = p_hold\n",
    "\n",
    "        paramStore_2E[i,:] = popt_2E\n",
    "        paramStore_1E[i,:] = popt_1E\n",
    "\n",
    "        B = Jacobian_2D(TI, tdata, T11, T12, *popt_2E) #TI, TE, T11, T12, c1, c2, T21, T22\n",
    "        covP = np.dot(B.T,B)*noiseSigma**2\n",
    "        # BmatStore[i,k] = np.linalg.norm(covP,'fro')*np.linalg.norm(np.linalg.inv(covP),ord='fro')\n",
    "        covP_U, covP_S, covP_VT = svd(covP)\n",
    "        Bmat1Store[i,k] = np.max(covP_S)/np.max((np.min(covP_S),1e-101))\n",
    "        Bmat2Store[i,k] = np.linalg.cond(covP)\n",
    "        Bmat3Store[i,k] = np.linalg.cond(covP,p = \"fro\")\n",
    "        eVal, eVec = np.linalg.eig(covP)\n",
    "        Bmat4Store[i,k] = np.max(eVal)/np.max((np.min(eVal),1e-101))\n",
    "        \n",
    "    \n",
    "\n",
    "    if histPlot:\n",
    "        fig, ax = plt.subplots(1,2, figsize=(9.5,5.5))\n",
    "        for i in range(2):\n",
    "\n",
    "            #Get a good bin size\n",
    "            binData = paramStore_2E[:,[2*i,2*i+1]]\n",
    "            binData = np.reshape(binData,-1)\n",
    "            binW = (np.max(binData) - np.min(binData))/10\n",
    "            binW = float('%.1g' % binW) #converts everything to a single significant figure\n",
    "            binMin = 10**(np.floor(np.log10(np.min(binData))))\n",
    "            binArray = np.arange(binMin, np.max(binData) + binW, binW)\n",
    "\n",
    "            #Construct a nice figure of each of the two \n",
    "            ax[i].hist(x=paramStore_2E[:,2*i], bins='auto', color='b', label = ParamTitle[2*i], alpha = 0.7)\n",
    "            ax[i].hist(x=paramStore_2E[:,2*i+1], bins='auto', color='g', label = ParamTitle[2*i+1], alpha = 0.7)\n",
    "            ax[i].set_xlabel('Param Value')\n",
    "            ax[i].set_ylabel('Count')\n",
    "            ax[i].axvline(x=realParams[2*i], linewidth=1, label= 'True ' + ParamTitle[2*i], color='red')\n",
    "            ax[i].axvline(x=realParams[2*i+1], linewidth=1, label= 'True ' + ParamTitle[2*i+1], color='orange')\n",
    "            ax[i].legend()\n",
    "            ax[i].set_title('Parameter Histogram Comparison\\n' + 'TI1* = ' + str(round(TI1star,2)) + \n",
    "                        r'$\\alpha$'+ ' (' + str(alpha_array[k]) + '): ' + str(round(TI,2)) +\n",
    "                        '\\nTrue ' + ParamTitle[2*i] + '=' + str(round(realParams[2*i],2)) + ' :: ' \n",
    "                        'True ' + ParamTitle[2*i+1] + '=' + str(round(realParams[2*i+1],2)))\n",
    "        fig.tight_layout()\n",
    "        plt.show()\n",
    "\n",
    "    \n",
    "\n",
    "    #Collect the standard deviation in parameter values\n",
    "    runStd = np.std(paramStore_2E, axis = 0)\n",
    "    stdStore[k,:] = runStd\n",
    "\n",
    "    std2 = np.var(paramStore_2E,axis = 0)**(1/2)\n",
    "    std2Store[k,:] = std2\n",
    "\n",
    "    # covParm = np.cov(paramStore)\n",
    "\n",
    "    # cNPStore[k] = np.linalg.norm(covParm,ord='fro')*np.linalg.norm(np.linalg.inv(covParm),ord='fro')\n",
    "\n",
    "    dCoef_conversion = np.array([(1-2*np.exp(-TI/T11)), (1-2*np.exp(-TI/T12)), 1, 1])\n",
    "    dParams = realParams * dCoef_conversion\n",
    "    dCoef_convertedMat = paramStore_2E * dCoef_conversion\n",
    "    dCoef_std[k,:] = np.std(dCoef_convertedMat, axis = 0)\n",
    "    mono_std[k,:] = np.std(paramStore_1E, axis = 0)"
   ]
  },
  {
   "cell_type": "markdown",
   "metadata": {},
   "source": [
    "# Plotting"
   ]
  },
  {
   "cell_type": "markdown",
   "metadata": {},
   "source": [
    "### Standard Deviation"
   ]
  },
  {
   "cell_type": "code",
   "execution_count": null,
   "metadata": {},
   "outputs": [],
   "source": [
    "if stdPlot:\n",
    "    fig, ax = plt.subplots(1,2, figsize=(9.5,6.5), tight_layout=True)\n",
    "    for i in range(2):\n",
    "        ax[i].plot(TI_array,stdStore[:,2*i], label = ParamTitle[2*i], alpha = 0.7)\n",
    "        ax[i].plot(TI_array,stdStore[:,2*i+1], label = ParamTitle[2*i+1], alpha = 0.7)\n",
    "        ax[i].axvline(x=TI1star, linewidth=1, label= 'TI1 nullpoint', color='k')\n",
    "        ax[i].set_xlabel('TI Value')\n",
    "        ax[i].set_ylabel('Standard Deviation of Parameter')\n",
    "        ax[i].set_title('TI Influence on Parameter Standard Deviation' +\n",
    "                            '\\nTI1* = ' + str(round(TI1star,2)) + \" :: SNR = \" + str(SNR) +\n",
    "                            '\\nTrue ' + ParamTitle[2*i] + '=' + str(round(realParams[2*i],2)) +\n",
    "                            ' :: True ' + ParamTitle[2*i+1] + '=' + str(round(realParams[2*i+1],2)) +\n",
    "                            '\\n' + r'$\\alpha$'+ 'Range (' + str(alpha_array[0]) + \",\" + str(alpha_array[k]) +\n",
    "                            '):: Points: ' + str(TI_numPoints))\n",
    "        ax[i].legend()\n",
    "    plt.show()\n",
    "\n",
    "    fig, ax = plt.subplots(1,2, figsize=(9.5,6.5), tight_layout=True)\n",
    "\n",
    "    for i in range(2):\n",
    "        ax[i].plot(TI_array,dCoef_std[:,2*i], label = dTitle[2*i], alpha = 0.7)\n",
    "        ax[i].plot(TI_array,dCoef_std[:,2*i+1], label = dTitle[2*i+1], alpha = 0.7)\n",
    "        ax[i].plot(TI_array,mono_std[:,i], label = MonoTitle[i], alpha = 0.7)\n",
    "        ax[i].axvline(x=TI1star, linewidth=1, label= 'TI1 nullpoint', color='k')\n",
    "        ax[i].set_xlabel('TI Value')\n",
    "        ax[i].set_ylabel('Standard Deviation of BiExp and MonoExp')\n",
    "        ax[i].set_title('TI Influence on Parameter Standard Deviation' +\n",
    "                            '\\nTI1* = ' + str(round(TI1star,2)) + \" :: SNR = \" + str(SNR) +\n",
    "                            '\\nTrue ' + ParamTitle[2*i] + '=' + str(round(realParams[2*i],2)) +\n",
    "                            ' :: True ' + ParamTitle[2*i+1] + '=' + str(round(realParams[2*i+1],2)) +\n",
    "                            '\\n' + r'$\\alpha$'+ 'Range (' + str(alpha_array[0]) + \",\" + str(alpha_array[k]) +\n",
    "                            '):: Points: ' + str(TI_numPoints))\n",
    "        ax[i].legend()\n",
    "    plt.show()\n",
    "\n",
    "    # Rely on Variance to calculate distribution\n",
    "    # for i in range(np.size(ParamTitle)):\n",
    "    #     plt.plot(TI_array,std2Store[:,i], label = ParamTitle[i])\n",
    "    # plt.xlabel('TI Value')\n",
    "    # plt.ylabel('sqrt(var) of Parameter')\n",
    "    # plt.title('TI Influence on ParameterStandard Deviation')\n",
    "    # plt.legend()\n",
    "    # plt.show()"
   ]
  },
  {
   "cell_type": "markdown",
   "metadata": {},
   "source": [
    "### Condition Number Plots"
   ]
  },
  {
   "cell_type": "code",
   "execution_count": null,
   "metadata": {},
   "outputs": [],
   "source": [
    "if cNPlot:\n",
    "    cNJ1Store = np.mean(Bmat1Store,axis=0)\n",
    "    cNJ2Store = np.mean(Bmat2Store,axis=0)\n",
    "    cNJ3Store = np.mean(Bmat3Store,axis=0)\n",
    "    cNJ4Store = np.mean(Bmat4Store,axis=0)\n",
    "    plt.plot(TI_array,cNJ1Store, label = \"SVD Manual\", alpha = 0.7)\n",
    "    # plt.plot(TI_array,cNJ2Store, label = \"L2 - SVD\", alpha = 0.7)\n",
    "    # plt.plot(TI_array,cNJ3Store, label = \"Frobenius\", alpha = 0.7, linewidth = 2)\n",
    "    plt.plot(TI_array,cNJ4Store, label = \"Eigenvalue\", alpha = 0.7, linewidth = 2)\n",
    "    plt.axvline(x=TI1star, linewidth=1, label= 'TI1 nullpoint', color='k')\n",
    "    plt.xlabel('TI Value')\n",
    "    plt.ylabel('Condition Number')\n",
    "    round_Params = [round(num, 2) for num in realParams]\n",
    "    pList = ', '.join(str(x) for x in round_Params)\n",
    "    pTitleList = ', '.join(x for x in ParamTitle)\n",
    "    plt.title('Condition Number Relative to TI' +\n",
    "                    '\\nTI1* = ' + str(round(TI1star,2)) + \" :: SNR = \" + str(SNR) +\n",
    "                    '\\nParams (' + pTitleList + ') = ' + '('+ pList + ')' +\n",
    "                    '\\n' + r'$\\alpha$'+ ' Range (' + str(alpha_array[0]) + \",\" + str(alpha_array[k]) +\n",
    "                    '):: Points: ' + str(TI_numPoints))\n",
    "    plt.legend()\n",
    "    plt.tight_layout()\n",
    "    plt.show()"
   ]
  }
 ],
 "metadata": {
  "kernelspec": {
   "display_name": "Python 3.9.4 ('.venv': venv)",
   "language": "python",
   "name": "python3"
  },
  "language_info": {
   "codemirror_mode": {
    "name": "ipython",
    "version": 3
   },
   "file_extension": ".py",
   "mimetype": "text/x-python",
   "name": "python",
   "nbconvert_exporter": "python",
   "pygments_lexer": "ipython3",
   "version": "3.9.4"
  },
  "orig_nbformat": 4,
  "vscode": {
   "interpreter": {
    "hash": "b198fbbcfab0e745ebe2d4427d75efcc0bf102a681278e853c612d284d98e86b"
   }
  }
 },
 "nbformat": 4,
 "nbformat_minor": 2
}
