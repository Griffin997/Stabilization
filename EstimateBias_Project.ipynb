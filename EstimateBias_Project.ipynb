{
 "cells": [
  {
   "cell_type": "markdown",
   "metadata": {},
   "source": [
    "# Parameter Fit as a Function of SNR - Code Description\n",
    "\n",
    "This code serves to study how changing the SNR in data influences the nonlinear least squares (NLLS) estimation of parameter values\n",
    "\n",
    "We are expecting to see an order of convergence for the estimated data to the real data for a model based on how much noise is added to the data\n",
    "\n",
    "The principle contributor to this code is Griffin Hampton (GSH)"
   ]
  },
  {
   "cell_type": "code",
   "execution_count": null,
   "metadata": {},
   "outputs": [],
   "source": []
  },
  {
   "cell_type": "code",
   "execution_count": null,
   "metadata": {},
   "outputs": [],
   "source": []
  }
 ],
 "metadata": {
  "kernelspec": {
   "display_name": "Python 3.9.4 ('.venv': venv)",
   "language": "python",
   "name": "python3"
  },
  "language_info": {
   "name": "python",
   "version": "3.9.4"
  },
  "orig_nbformat": 4,
  "vscode": {
   "interpreter": {
    "hash": "b198fbbcfab0e745ebe2d4427d75efcc0bf102a681278e853c612d284d98e86b"
   }
  }
 },
 "nbformat": 4,
 "nbformat_minor": 2
}
