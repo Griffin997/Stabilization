{
 "cells": [
  {
   "attachments": {},
   "cell_type": "markdown",
   "metadata": {},
   "source": [
    "# README\n",
    "\n",
    "We are seeking to evaluate the alpha method and show that as alpha changes, how this influences the frequency that a curve is evaluated as moX"
   ]
  },
  {
   "attachments": {},
   "cell_type": "markdown",
   "metadata": {},
   "source": [
    "# Libraries"
   ]
  },
  {
   "cell_type": "code",
   "execution_count": 20,
   "metadata": {},
   "outputs": [],
   "source": [
    "#Preparing all libraries\n",
    "import matplotlib.pyplot as plt\n",
    "import numpy as np\n",
    "import scipy\n",
    "from scipy.optimize import curve_fit\n",
    "from scipy.optimize import minimize\n",
    "import addcopyfighandler\n",
    "import statistics\n",
    "import math\n",
    "import time\n",
    "from tqdm import trange\n",
    "from matplotlib import cm\n",
    "import colorsys\n",
    "from datetime import date\n",
    "import pickle\n",
    "import functools"
   ]
  },
  {
   "attachments": {},
   "cell_type": "markdown",
   "metadata": {},
   "source": [
    "# Initialize Parameters"
   ]
  },
  {
   "cell_type": "code",
   "execution_count": 21,
   "metadata": {},
   "outputs": [],
   "source": [
    "####### Options #######\n",
    "randStart = True                  #Initial guess for parameter values in random locations"
   ]
  },
  {
   "cell_type": "code",
   "execution_count": 22,
   "metadata": {},
   "outputs": [],
   "source": [
    "######All Fixed parameters for code\n",
    "#Parameters held constant\n",
    "T11 = 600\n",
    "T12 = 1200\n",
    "c1 = 0.4\n",
    "c2 = 0.6 \n",
    "T21 = 40\n",
    "T22 = 100\n",
    "\n",
    "true_params = np.array([T11, T12, c1, c2, T21, T22])\n",
    "\n",
    "#Building the TE array - this should be a uniform array\n",
    "n_points = 64\n",
    "TE_step = 8\n",
    "\n",
    "TE_DATA = np.linspace(TE_step, TE_step*n_points, n_points) #ms units\n",
    "\n",
    "assert(TE_DATA[-1] == 512)\n",
    "d_TE = np.mean(np.diff(TE_DATA))\n",
    "assert(d_TE == 8)\n",
    "\n",
    "TI1star = np.log(2)*T11\n",
    "TI2star = np.log(2)*T12\n",
    "\n",
    "\n",
    "######### TI list of points used in the final evaluation\n",
    "TI_DATA = np.array([0, 330, 410])#np.logspace(1,3.5,10)#np.array([0, 550, 700])#\n",
    "\n",
    "#SNR Value to Evaluate\n",
    "SNR_value = 100\n",
    "\n",
    "alpha_array = np.arange(0.94,1.001,0.01)\n",
    "\n",
    "#number of multistarts in the AIC filter to ensure accurate measurement\n",
    "multi_starts_AIC = 3\n",
    "\n",
    "if randStart:\n",
    "    multi_starts_obj = 2\n",
    "else:\n",
    "    multi_starts_obj = 1\n",
    "\n",
    "#number of iterations to evaluate consistency of AIC filter\n",
    "AIC_eval_iter = 10**3\n",
    "\n",
    "#Builds a string of parameters to use in the titles\n",
    "ParamTitle_6p = [r'$T_{11}$', r'$T_{12}$', r'$c_1$', r'$c_2$', r'$T_{21}$', r'$T_{22}$']\n",
    "round_Params = [round(num, 2) for num in true_params]\n",
    "pList = ', '.join(str(x) for x in round_Params)\n",
    "pTitleList = ', '.join(x for x in ParamTitle_6p) #Builds the list of parametes used to generate the original data\n",
    "\n",
    "#### Important for Naming\n",
    "date = date.today()\n",
    "day = date.strftime('%d')\n",
    "month = date.strftime('%B')[0:3]\n",
    "year = date.strftime('%y')"
   ]
  },
  {
   "cell_type": "code",
   "execution_count": 23,
   "metadata": {},
   "outputs": [],
   "source": [
    "#Defining the function of interest\n",
    "\n",
    "def S_biX_6p(TE, T11, T12, c1, c2, T21, T22, TI = 0):\n",
    "    exp1 = c1*(1-2*np.exp(-TI/T11))*np.exp(-TE/T21)\n",
    "    exp2 = c2*(1-2*np.exp(-TI/T12))*np.exp(-TE/T22)\n",
    "    return exp1 + exp2\n",
    "\n",
    "#The ravel structure necessary for the curve_fit algorithm\n",
    "def S_biX_6p_ravel(T_dat, T11, T12, c1, c2, T21, T22):\n",
    "    TE, TI = T_dat\n",
    "    exp1 = c1*(1-2*np.exp(-TI/T11))*np.exp(-TE/T21)\n",
    "    exp2 = c2*(1-2*np.exp(-TI/T12))*np.exp(-TE/T22)\n",
    "    return exp1 + exp2\n",
    "\n",
    "def calculate_RSS_TI(func, popt, TI_val, data):\n",
    "    est_curve = func(TE_DATA, *popt, TI = TI_val)\n",
    "    RSS = np.sum((est_curve - data)**2)\n",
    "    \n",
    "    return RSS\n",
    "\n",
    "def S_moX_3p(TE, T1, c, T2, TI = 0):\n",
    "    return c*(1-2*np.exp(-TI/T1))*np.exp(-TE/T2)\n",
    "\n",
    "#The one dimensional models are used to evaluate if a curve is more likely monoX or biX\n",
    "def S_biX_4p(TE, d1, d2, T21, T22):\n",
    "    exp1 = d1*np.exp(-TE/T21)\n",
    "    exp2 = d2*np.exp(-TE/T22)\n",
    "    return exp1 + exp2\n",
    "\n",
    "def S_moX_2p(TE, d, T2):\n",
    "    return d*np.exp(-TE/T2)\n",
    "\n",
    "#All curves get noise according to this equation\n",
    "def add_noise(data, SNR):\n",
    "    #returns a noised vector of data using the SNR given\n",
    "    sigma = (c1+c2)/SNR #np.max(np.abs(data))/SNR\n",
    "    noise = np.random.normal(0,sigma,data.shape)\n",
    "    noised_data = data + noise\n",
    "    return noised_data"
   ]
  },
  {
   "cell_type": "code",
   "execution_count": 24,
   "metadata": {},
   "outputs": [],
   "source": [
    "def get_func_bounds(func):\n",
    "    f_name = func.__name__\n",
    "    if f_name == \"S_biX_6p\":\n",
    "        lower_bound = (2, 2, 0, 0, 2, 2)\n",
    "        upper_bound = (2000, 2000, 1, 1, 150, 150)\n",
    "    elif f_name == \"S_moX_3p\":\n",
    "        lower_bound = (2, 0, 2)\n",
    "        upper_bound = (2000, 1, 150)\n",
    "    elif f_name == \"S_biX_4p\":\n",
    "        lower_bound = (-1, -1, 2, 2)\n",
    "        upper_bound = (1, 1, 150, 150)\n",
    "    elif f_name == \"S_moX_2p\":\n",
    "        lower_bound = (-1, 2)\n",
    "        upper_bound = (1, 150)\n",
    "    else:\n",
    "        raise Exception(\"Not a valid function: \" + f_name)\n",
    "\n",
    "    return lower_bound, upper_bound\n",
    "\n",
    "def get_param_list(func):\n",
    "    f_name = func.__name__\n",
    "    if f_name.find(\"S_biX_6p\") > -1:\n",
    "        params = (\"T21\",\"T22\",\"c1\",\"c2\",\"T21\",\"T22\")\n",
    "    elif f_name.find(\"S_moX_3p\") > -1:\n",
    "        params = (\"T21\",\"c\",\"T2\")\n",
    "    else:\n",
    "        raise Exception(\"Not a valid function: \" + f_name)\n",
    "\n",
    "    return params\n",
    "\n",
    "def set_p0(func, random = True):\n",
    "    true_params = [T11, T12, c1, c2, T21, T22]\n",
    "    if random:\n",
    "        lb, ub = get_func_bounds(func)\n",
    "        if func.__name__.find(\"S_biX_6p\") > -1:\n",
    "            T11_est = np.random.uniform(lb[-6],ub[-6])\n",
    "            T12_est = np.random.uniform(T11_est,ub[-5])\n",
    "            c1_est = np.random.uniform(lb[-4],ub[-4])\n",
    "            T21_est = np.random.uniform(lb[-2],ub[-2])\n",
    "            T22_est = np.random.uniform(T21_est,ub[-1])\n",
    "            p0 = [T11_est, T12_est, c1_est, 1-c1_est, T21_est, T22_est]\n",
    "        else:\n",
    "            p0 = [np.random.uniform(lb[i],ub[i]) for i in range(len(lb))]\n",
    "    else:\n",
    "        # f_name = func.__name__\n",
    "        # if f_name.find(\"moX\") > -1:\n",
    "        #     p0 = [75, 0.5, 75]\n",
    "        # elif f_name.find(\"biX\") > -1:\n",
    "        #     p0 = [75, 75, 0.5, 0.5, 75, 75]\n",
    "        # else:\n",
    "        p0 = true_params\n",
    "            \n",
    "    return p0\n",
    "\n",
    "def check_param_order(popt):\n",
    "    #Reshaping of array to ensure that the parameter pairs all end up in the appropriate place - ensures that T22 > T21\n",
    "    if (popt[-1] < popt[-2]): #We want by convention to make sure that T21 is <= T22\n",
    "        for pi in range(np.size(popt)//2):\n",
    "            p_hold = popt[2*pi]\n",
    "            popt[2*pi] = popt[2*pi+1]\n",
    "            popt[2*pi+1] = p_hold\n",
    "    return popt\n",
    "\n",
    "def calculate_RSS_TI(func, popt, TI_val, data):\n",
    "    est_curve = func(TE_DATA, *popt, TI = TI_val)\n",
    "    RSS = np.sum((est_curve - data)**2)\n",
    "    \n",
    "    return RSS\n",
    "\n",
    "def calculate_RSS(func, popt, data):\n",
    "    est_curve = func(TE_DATA, *popt)\n",
    "    RSS = np.sum((est_curve - data)**2)\n",
    "    \n",
    "    return RSS\n",
    "\n",
    "def estP_oneCurve(func, noisey_data):\n",
    "\n",
    "    init_p = set_p0(func, random = True)\n",
    "    lb, ub = get_func_bounds(func)\n",
    "\n",
    "    popt, _ = curve_fit(func, TE_DATA, noisey_data, p0 = init_p, bounds = [lb,ub], method = 'trf', maxfev = 1500)\n",
    "    popt = check_param_order(popt)\n",
    "    RSS = calculate_RSS(func, popt, noisey_data)\n",
    "\n",
    "    return popt, RSS"
   ]
  },
  {
   "cell_type": "code",
   "execution_count": 25,
   "metadata": {},
   "outputs": [],
   "source": [
    "def AIC(RSS, TE_array, p_list, sigma):\n",
    "\n",
    "    AIC = 1/len(TE_array) * (RSS + 2*len(p_list)*(sigma)**2)\n",
    "\n",
    "    return AIC\n",
    "\n",
    "\n",
    "def evaluate_model(data, alpha, ms_iter = multi_starts_AIC):\n",
    "\n",
    "    #Returns true if the moX is better than the biX --> returns a 1 for moX and a 0 for biX\n",
    "    #Returns the parameters of the correct answer\n",
    "\n",
    "    RSS_biX = np.inf\n",
    "    RSS_moX = np.inf\n",
    "\n",
    "    for ms in range(ms_iter):\n",
    "        popt_biX_temp, RSS_biX_temp = estP_oneCurve(S_biX_4p, data)\n",
    "        popt_moX_temp, RSS_moX_temp = estP_oneCurve(S_moX_2p, data)\n",
    "\n",
    "        if RSS_biX_temp < RSS_biX:\n",
    "            popt_biX = popt_biX_temp\n",
    "            RSS_biX = RSS_biX_temp\n",
    "\n",
    "        if RSS_moX_temp < RSS_moX:\n",
    "            popt_moX = popt_moX_temp\n",
    "            RSS_moX = RSS_moX_temp\n",
    "\n",
    "    # popt_biX, RSS_biX = estP_oneCurve(S_biX_4p, data)\n",
    "    # popt_moX, RSS_moX = estP_oneCurve(S_moX_2p, data)\n",
    "\n",
    "    AIC_biX = AIC(RSS_biX, TE_DATA, popt_biX, 1/SNR_value)\n",
    "    AIC_moX = AIC(RSS_moX, TE_DATA, popt_moX, 1/SNR_value)\n",
    "\n",
    "    if AIC_moX < alpha*AIC_biX:\n",
    "        return True, popt_moX, RSS_moX\n",
    "    else:\n",
    "        return False, popt_biX, RSS_biX\n"
   ]
  },
  {
   "cell_type": "markdown",
   "metadata": {},
   "source": [
    "# Alpha Results - Frequency Analysis"
   ]
  },
  {
   "cell_type": "code",
   "execution_count": 26,
   "metadata": {},
   "outputs": [],
   "source": [
    "signal_array = np.zeros([len(TI_DATA), len(TE_DATA)])\n",
    "\n",
    "for iTI in range(len(TI_DATA)):\n",
    "    signal_array[iTI,:] = S_biX_6p(TE_DATA, *true_params, TI = TI_DATA[iTI])"
   ]
  },
  {
   "cell_type": "code",
   "execution_count": 27,
   "metadata": {},
   "outputs": [
    {
     "name": "stderr",
     "output_type": "stream",
     "text": [
      "100%|██████████| 1000/1000 [15:50<00:00,  1.05it/s]\n"
     ]
    }
   ],
   "source": [
    "init_freq = np.zeros((len(alpha_array), len(TI_DATA)))\n",
    "\n",
    "for iter in trange(AIC_eval_iter):\n",
    "\n",
    "    temp_noised_data = add_noise(signal_array, SNR_value)\n",
    "\n",
    "    for iAlp in range(len(alpha_array)):\n",
    "\n",
    "        for iTI in range(len(TI_DATA)):\n",
    "            mox_opt_iter, _, _ = evaluate_model(temp_noised_data[iTI,:], alpha_array[iAlp])\n",
    "            init_freq[iAlp, iTI] += mox_opt_iter"
   ]
  },
  {
   "cell_type": "code",
   "execution_count": 29,
   "metadata": {},
   "outputs": [
    {
     "data": {
      "text/plain": [
       "<matplotlib.legend.Legend at 0x23d269941c0>"
      ]
     },
     "execution_count": 29,
     "metadata": {},
     "output_type": "execute_result"
    },
    {
     "data": {
      "image/png": "[encoded data removed]",
      "text/plain": [
       "<Figure size 800x550 with 1 Axes>"
      ]
     },
     "metadata": {},
     "output_type": "display_data"
    }
   ],
   "source": [
    "fig, ax = plt.subplots(1,1, figsize=(8,5.5), tight_layout=True)\n",
    "fig.suptitle(f\"Frequency of Noise Realizations for {AIC_eval_iter} Repititions\\nDetected as Monoexponential\\nSNR = {SNR_value : 0.2f}\\n{ParamTitle_6p}\\n[{T11},{T12},{c1},{c2},{T21},{T22}]\")\n",
    "\n",
    "for iTI in range(len(TI_DATA)):\n",
    "    ax.plot(alpha_array, init_freq[:,iTI]/AIC_eval_iter, label = f'TI = {TI_DATA[iTI]}', lw = 2)\n",
    "\n",
    "\n",
    "ax.set_xlabel(r'$\\alpha$')\n",
    "ax.set_ylabel('MoX Frequency')\n",
    "\n",
    "ax.legend(loc='center left', bbox_to_anchor=(1, 0.5))"
   ]
  }
 ],
 "metadata": {
  "kernelspec": {
   "display_name": "Python 3",
   "language": "python",
   "name": "python3"
  },
  "language_info": {
   "codemirror_mode": {
    "name": "ipython",
    "version": 3
   },
   "file_extension": ".py",
   "mimetype": "text/x-python",
   "name": "python",
   "nbconvert_exporter": "python",
   "pygments_lexer": "ipython3",
   "version": "3.10.7"
  },
  "orig_nbformat": 4
 },
 "nbformat": 4,
 "nbformat_minor": 2
}
