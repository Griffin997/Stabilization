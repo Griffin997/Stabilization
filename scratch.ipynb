{
 "cells": [
  {
   "cell_type": "code",
   "execution_count": 1,
   "metadata": {},
   "outputs": [],
   "source": [
    "import numpy as np"
   ]
  },
  {
   "cell_type": "code",
   "execution_count": 2,
   "metadata": {},
   "outputs": [
    {
     "name": "stdout",
     "output_type": "stream",
     "text": [
      "-0.6764720573577458\n"
     ]
    }
   ],
   "source": [
    "val_1 = 3.81e-4\n",
    "val_2 = 3.64e-3\n",
    "val_1 = val_1**(1/2)\n",
    "val_2 = val_2**(1/2)\n",
    "print((val_1 - val_2)/val_2)"
   ]
  },
  {
   "cell_type": "code",
   "execution_count": 3,
   "metadata": {},
   "outputs": [
    {
     "name": "stdout",
     "output_type": "stream",
     "text": [
      "-0.6881396821406071\n"
     ]
    }
   ],
   "source": [
    "val_1 = 3.90e-4\n",
    "val_2 = 4.01e-3\n",
    "val_1 = val_1**(1/2)\n",
    "val_2 = val_2**(1/2)\n",
    "print((val_1 - val_2)/val_2)"
   ]
  },
  {
   "cell_type": "code",
   "execution_count": 4,
   "metadata": {},
   "outputs": [
    {
     "name": "stdout",
     "output_type": "stream",
     "text": [
      "-0.4451720073910397\n"
     ]
    }
   ],
   "source": [
    "val_1 = 6.68e2\n",
    "val_2 = 2.17e3\n",
    "val_1 = val_1**(1/2)\n",
    "val_2 = val_2**(1/2)\n",
    "print((val_1 - val_2)/val_2)"
   ]
  },
  {
   "cell_type": "code",
   "execution_count": 5,
   "metadata": {},
   "outputs": [
    {
     "name": "stdout",
     "output_type": "stream",
     "text": [
      "-0.43431457505076204\n"
     ]
    }
   ],
   "source": [
    "val_1 = 5.92e2\n",
    "val_2 = 1.85e3\n",
    "val_1 = val_1**(1/2)\n",
    "val_2 = val_2**(1/2)\n",
    "print((val_1 - val_2)/val_2)"
   ]
  },
  {
   "cell_type": "code",
   "execution_count": 6,
   "metadata": {},
   "outputs": [
    {
     "name": "stdout",
     "output_type": "stream",
     "text": [
      "-0.5731623508752564\n"
     ]
    }
   ],
   "source": [
    "val_1 = 1.78e0\n",
    "val_2 = 9.77e0\n",
    "val_1 = val_1**(1/2)\n",
    "val_2 = val_2**(1/2)\n",
    "print((val_1 - val_2)/val_2)"
   ]
  },
  {
   "cell_type": "code",
   "execution_count": 7,
   "metadata": {},
   "outputs": [
    {
     "name": "stdout",
     "output_type": "stream",
     "text": [
      "-0.6325854563030303\n"
     ]
    }
   ],
   "source": [
    "val_1 = 1.03e0\n",
    "val_2 = 7.63e0\n",
    "val_1 = val_1**(1/2)\n",
    "val_2 = val_2**(1/2)\n",
    "print((val_1 - val_2)/val_2)"
   ]
  },
  {
   "cell_type": "code",
   "execution_count": 13,
   "metadata": {},
   "outputs": [
    {
     "name": "stdout",
     "output_type": "stream",
     "text": [
      "-0.7162844637766457\n"
     ]
    }
   ],
   "source": [
    "val_1 = 2.93e-4\n",
    "val_2 = 3.64e-3\n",
    "val_1 = val_1**(1/2)\n",
    "val_2 = val_2**(1/2)\n",
    "print((val_1 - val_2)/val_2)"
   ]
  },
  {
   "cell_type": "code",
   "execution_count": 14,
   "metadata": {},
   "outputs": [
    {
     "name": "stdout",
     "output_type": "stream",
     "text": [
      "-0.7192044269470157\n"
     ]
    }
   ],
   "source": [
    "val_1 = 2.87e-4\n",
    "val_2 = 3.64e-3\n",
    "val_1 = val_1**(1/2)\n",
    "val_2 = val_2**(1/2)\n",
    "print((val_1 - val_2)/val_2)"
   ]
  },
  {
   "cell_type": "code",
   "execution_count": 19,
   "metadata": {},
   "outputs": [
    {
     "name": "stdout",
     "output_type": "stream",
     "text": [
      "0.07625\n"
     ]
    }
   ],
   "source": [
    "print(0.0305/0.4)"
   ]
  },
  {
   "cell_type": "code",
   "execution_count": null,
   "metadata": {},
   "outputs": [],
   "source": []
  }
 ],
 "metadata": {
  "kernelspec": {
   "display_name": ".venv",
   "language": "python",
   "name": "python3"
  },
  "language_info": {
   "codemirror_mode": {
    "name": "ipython",
    "version": 3
   },
   "file_extension": ".py",
   "mimetype": "text/x-python",
   "name": "python",
   "nbconvert_exporter": "python",
   "pygments_lexer": "ipython3",
   "version": "3.10.7"
  }
 },
 "nbformat": 4,
 "nbformat_minor": 2
}
