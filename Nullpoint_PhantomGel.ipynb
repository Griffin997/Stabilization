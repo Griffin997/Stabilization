{
 "cells": [
  {
   "cell_type": "markdown",
   "metadata": {},
   "source": [
    "# Import Libraries "
   ]
  },
  {
   "cell_type": "code",
   "execution_count": 1,
   "metadata": {},
   "outputs": [],
   "source": [
    "#Preparing all libraries\n",
    "import matplotlib.pyplot as plt\n",
    "from mpl_toolkits import mplot3d\n",
    "import numpy as np\n",
    "import scipy\n",
    "from scipy.optimize import curve_fit\n",
    "from scipy.optimize import golden\n",
    "from scipy.optimize import fminbound\n",
    "from scipy.linalg import svd\n",
    "from scipy.stats import trim_mean\n",
    "import scipy.io\n",
    "import addcopyfighandler\n",
    "import statistics\n",
    "import math\n",
    "import time\n",
    "from tqdm import trange\n",
    "from matplotlib import cm"
   ]
  },
  {
   "cell_type": "markdown",
   "metadata": {},
   "source": [
    "# Initialize Parameters & Load Data"
   ]
  },
  {
   "cell_type": "code",
   "execution_count": 4,
   "metadata": {},
   "outputs": [],
   "source": [
    "phased = scipy.io.loadmat('C:\\\\co\\\\NIA\\\\Stabilization\\\\Data\\\\phased_dataset.mat')\n",
    "with open('C:\\\\co\\\\NIA\\\\Stabilization\\\\Data\\\\TI_phantom_nullExp.txt') as f:\n",
    "    TI = f.readlines()\n",
    "\n",
    "TI_num = [sub.replace(\"\\n\", \"\") for sub in TI]\n",
    "TI_int = [float(elem) for elem in TI_num]"
   ]
  },
  {
   "cell_type": "code",
   "execution_count": null,
   "metadata": {},
   "outputs": [],
   "source": []
  }
 ],
 "metadata": {
  "kernelspec": {
   "display_name": "Python 3",
   "language": "python",
   "name": "python3"
  },
  "language_info": {
   "codemirror_mode": {
    "name": "ipython",
    "version": 3
   },
   "file_extension": ".py",
   "mimetype": "text/x-python",
   "name": "python",
   "nbconvert_exporter": "python",
   "pygments_lexer": "ipython3",
   "version": "3.10.7 (tags/v3.10.7:6cc6b13, Sep  5 2022, 14:08:36) [MSC v.1933 64 bit (AMD64)]"
  },
  "orig_nbformat": 4,
  "vscode": {
   "interpreter": {
    "hash": "1f9461e57c8aaeccb5a4202f3eb0df437b94cded3914cf93be397abab25dc6de"
   }
  }
 },
 "nbformat": 4,
 "nbformat_minor": 2
}
