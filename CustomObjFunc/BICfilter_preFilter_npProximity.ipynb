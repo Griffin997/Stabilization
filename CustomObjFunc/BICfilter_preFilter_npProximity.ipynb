{
 "cells": [
  {
   "attachments": {},
   "cell_type": "markdown",
   "metadata": {},
   "source": [
    "# README\n",
    "\n",
    "We are analyzing the preFilter algorithm that we have developed in this code. We are looking at the test case of three curves, one curve clearly at a biexponential signal (TI = 0). We are also looking at two other curves of monoexponential character around each null point. We want to see how the MSE changes as we move further away from the null point."
   ]
  },
  {
   "attachments": {},
   "cell_type": "markdown",
   "metadata": {},
   "source": [
    "# Libraries"
   ]
  },
  {
   "cell_type": "code",
   "execution_count": 50,
   "metadata": {},
   "outputs": [],
   "source": [
    "#Preparing all libraries\n",
    "import matplotlib.pyplot as plt\n",
    "import numpy as np\n",
    "import scipy\n",
    "from scipy.optimize import curve_fit\n",
    "from scipy.optimize import minimize\n",
    "import addcopyfighandler\n",
    "import statistics\n",
    "import math\n",
    "import time\n",
    "from tqdm import trange\n",
    "from matplotlib import cm\n",
    "import colorsys\n",
    "from datetime import date\n",
    "import pickle\n",
    "import functools\n",
    "from matplotlib.ticker import MultipleLocator"
   ]
  },
  {
   "attachments": {},
   "cell_type": "markdown",
   "metadata": {},
   "source": [
    "# Initialize Parameters"
   ]
  },
  {
   "cell_type": "code",
   "execution_count": 20,
   "metadata": {},
   "outputs": [],
   "source": [
    "####### Options #######\n",
    "randStart = True                  #Initial guess for parameter values in random locations"
   ]
  },
  {
   "cell_type": "code",
   "execution_count": 43,
   "metadata": {},
   "outputs": [],
   "source": [
    "######All Fixed parameters for code\n",
    "#Parameters held constant\n",
    "T11 = 600\n",
    "T12 = 1200\n",
    "c1 = 0.4\n",
    "c2 = 0.6 \n",
    "T21 = 40\n",
    "T22 = 100\n",
    "\n",
    "true_params = np.array([T11, T12, c1, c2, T21, T22])\n",
    "\n",
    "R0_coeff_TI1 = (c1**2 * T21 *(T21 - T22)**4)/(2*T11**2 * (T21 + T22)**4)\n",
    "R0_coeff_TI2 = (c2**2 * T22 *(T21 - T22)**4)/(2*T12**2 * (T21 + T22)**4)\n",
    "\n",
    "#Building the TE array - this should be a uniform array\n",
    "n_TE = 64\n",
    "TE_step = 8\n",
    "\n",
    "TE_DATA = np.linspace(TE_step, TE_step*n_TE, n_TE) #ms units\n",
    "\n",
    "TI1star = np.log(2)*T11\n",
    "TI2star = np.log(2)*T12\n",
    "\n",
    "#SNR Value to Evaluate\n",
    "SNR_value = 100\n",
    "\n",
    "var_reps = 1000\n",
    "\n",
    "#number of multistarts in the BIC filter to ensure accurate measurement\n",
    "multi_starts_BIC = 3\n",
    "\n",
    "if randStart:\n",
    "    multi_starts_obj = 2\n",
    "else:\n",
    "    multi_starts_obj = 1\n",
    "\n",
    "#number of iterations to evaluate consistency of BIC filter\n",
    "BIC_eval_iter = 100     \n",
    "\n",
    "#These are the TI points that we are going to check around the null point\n",
    "TI1_region = np.arange(-100,101,40)\n",
    "TI2_region = np.arange(-100,101,40)\n",
    "\n",
    "#Builds a string of parameters to use in the titles\n",
    "ParamTitle_6p = [r'$T_{11}$', r'$T_{12}$', r'$c_1$', r'$c_2$', r'$T_{21}$', r'$T_{22}$']\n",
    "round_Params = [round(num, 2) for num in true_params]\n",
    "pList = ', '.join(str(x) for x in round_Params)\n",
    "pTitleList = ', '.join(x for x in ParamTitle_6p) #Builds the list of parametes used to generate the original data\n",
    "\n",
    "#### Important for Naming\n",
    "date = date.today()\n",
    "day = date.strftime('%d')\n",
    "month = date.strftime('%B')[0:3]\n",
    "year = date.strftime('%y')"
   ]
  },
  {
   "cell_type": "code",
   "execution_count": 40,
   "metadata": {},
   "outputs": [],
   "source": [
    "#Defining the function of interest\n",
    "\n",
    "def S_biX_6p(TE, T11, T12, c1, c2, T21, T22, TI = 0):\n",
    "    exp1 = c1*(1-2*np.exp(-TI/T11))*np.exp(-TE/T21)\n",
    "    exp2 = c2*(1-2*np.exp(-TI/T12))*np.exp(-TE/T22)\n",
    "    return exp1 + exp2\n",
    "\n",
    "#The ravel structure necessary for the curve_fit algorithm\n",
    "def S_biX_6p_ravel(T_dat, T11, T12, c1, c2, T21, T22):\n",
    "    TE, TI = T_dat\n",
    "    exp1 = c1*(1-2*np.exp(-TI/T11))*np.exp(-TE/T21)\n",
    "    exp2 = c2*(1-2*np.exp(-TI/T12))*np.exp(-TE/T22)\n",
    "    return exp1 + exp2\n",
    "\n",
    "def calculate_RSS_TI(func, popt, TI_val, data):\n",
    "    est_curve = func(TE_DATA, *popt, TI = TI_val)\n",
    "    RSS = np.sum((est_curve - data)**2)\n",
    "    \n",
    "    return RSS\n",
    "\n",
    "def S_moX_3p(TE, T1, c, T2, TI = 0):\n",
    "    return c*(1-2*np.exp(-TI/T1))*np.exp(-TE/T2)\n",
    "\n",
    "#The one dimensional models are used to evaluate if a curve is more likely monoX or biX\n",
    "def S_biX_4p(TE, d1, d2, T21, T22):\n",
    "    exp1 = d1*np.exp(-TE/T21)\n",
    "    exp2 = d2*np.exp(-TE/T22)\n",
    "    return exp1 + exp2\n",
    "\n",
    "def S_moX_2p(TE, d, T2):\n",
    "    return d*np.exp(-TE/T2)\n",
    "\n",
    "#All curves get noise according to this equation\n",
    "def add_noise(data, SNR):\n",
    "    #returns a noised vector of data using the SNR given\n",
    "    sigma = (c1+c2)/SNR #np.max(np.abs(data))/SNR\n",
    "    noise = np.random.normal(0,sigma,data.shape)\n",
    "    noised_data = data + noise\n",
    "    return noised_data"
   ]
  },
  {
   "cell_type": "code",
   "execution_count": 41,
   "metadata": {},
   "outputs": [],
   "source": [
    "def get_func_bounds(func):\n",
    "    f_name = func.__name__\n",
    "    if f_name == \"S_biX_6p\":\n",
    "        lower_bound = (2, 2, 0, 0, 2, 2)\n",
    "        upper_bound = (2000, 2000, 1, 1, 150, 150)\n",
    "    elif f_name == \"S_moX_3p\":\n",
    "        lower_bound = (2, 0, 2)\n",
    "        upper_bound = (2000, 1, 150)\n",
    "    elif f_name == \"S_biX_4p\":\n",
    "        lower_bound = (-1, -1, 2, 2)\n",
    "        upper_bound = (1, 1, 150, 150)\n",
    "    elif f_name == \"S_moX_2p\":\n",
    "        lower_bound = (-1, 2)\n",
    "        upper_bound = (1, 150)\n",
    "    else:\n",
    "        raise Exception(\"Not a valid function: \" + f_name)\n",
    "\n",
    "    return lower_bound, upper_bound\n",
    "\n",
    "def get_param_list(func):\n",
    "    f_name = func.__name__\n",
    "    if f_name.find(\"S_biX_6p\") > -1:\n",
    "        params = (\"T21\",\"T22\",\"c1\",\"c2\",\"T21\",\"T22\")\n",
    "    elif f_name.find(\"S_moX_3p\") > -1:\n",
    "        params = (\"T21\",\"c\",\"T2\")\n",
    "    else:\n",
    "        raise Exception(\"Not a valid function: \" + f_name)\n",
    "\n",
    "    return params\n",
    "\n",
    "def set_p0(func, random = True):\n",
    "    true_params = [T11, T12, c1, c2, T21, T22]\n",
    "    if random:\n",
    "        lb, ub = get_func_bounds(func)\n",
    "        if func.__name__.find(\"S_biX_6p\") > -1:\n",
    "            T11_est = np.random.uniform(lb[-6],ub[-6])\n",
    "            T12_est = np.random.uniform(T11_est,ub[-5])\n",
    "            c1_est = np.random.uniform(lb[-4],ub[-4])\n",
    "            T21_est = np.random.uniform(lb[-2],ub[-2])\n",
    "            T22_est = np.random.uniform(T21_est,ub[-1])\n",
    "            p0 = [T11_est, T12_est, c1_est, 1-c1_est, T21_est, T22_est]\n",
    "        else:\n",
    "            p0 = [np.random.uniform(lb[i],ub[i]) for i in range(len(lb))]\n",
    "    else:\n",
    "        # f_name = func.__name__\n",
    "        # if f_name.find(\"moX\") > -1:\n",
    "        #     p0 = [75, 0.5, 75]\n",
    "        # elif f_name.find(\"biX\") > -1:\n",
    "        #     p0 = [75, 75, 0.5, 0.5, 75, 75]\n",
    "        # else:\n",
    "        p0 = true_params\n",
    "            \n",
    "    return p0\n",
    "\n",
    "def check_param_order(popt):\n",
    "    #Reshaping of array to ensure that the parameter pairs all end up in the appropriate place - ensures that T22 > T21\n",
    "    if (popt[-1] < popt[-2]): #We want by convention to make sure that T21 is <= T22\n",
    "        for pi in range(np.size(popt)//2):\n",
    "            p_hold = popt[2*pi]\n",
    "            popt[2*pi] = popt[2*pi+1]\n",
    "            popt[2*pi+1] = p_hold\n",
    "    return popt\n",
    "\n",
    "def calculate_RSS_TI(func, popt, TI_val, data):\n",
    "    est_curve = func(TE_DATA, *popt, TI = TI_val)\n",
    "    RSS = np.sum((est_curve - data)**2)\n",
    "    \n",
    "    return RSS\n",
    "\n",
    "def calculate_RSS(func, popt, data):\n",
    "    est_curve = func(TE_DATA, *popt)\n",
    "    RSS = np.sum((est_curve - data)**2)\n",
    "    \n",
    "    return RSS\n",
    "\n",
    "def estP_oneCurve(func, noisey_data):\n",
    "\n",
    "    init_p = set_p0(func, random = True)\n",
    "    lb, ub = get_func_bounds(func)\n",
    "\n",
    "    popt, _ = curve_fit(func, TE_DATA, noisey_data, p0 = init_p, bounds = [lb,ub], method = 'trf', maxfev = 1500)\n",
    "    popt = check_param_order(popt)\n",
    "    RSS = calculate_RSS(func, popt, noisey_data)\n",
    "\n",
    "    return popt, RSS"
   ]
  },
  {
   "cell_type": "code",
   "execution_count": 42,
   "metadata": {},
   "outputs": [],
   "source": [
    "def BIC_opt1(RSS, TE_array, p_list, sigma):\n",
    "\n",
    "    BIC = 1/len(TE_array) * (RSS + np.log(len(TE_array))*len(p_list)*(sigma)**2)\n",
    "\n",
    "    return BIC\n",
    "\n",
    "def BIC_opt2(RSS, TE_array, p_list):\n",
    "\n",
    "    BIC = len(TE_array) * np.log(RSS/len(TE_array)) + len(p_list) * np.log(len(TE_array))\n",
    "\n",
    "    return BIC\n",
    "\n",
    "def int_lengh_opt1(R0, num_TE, diff_TE, SNR):\n",
    "    return ((2*np.log(num_TE)-2)*diff_TE/(R0*SNR**2))**(1/2)\n",
    "\n",
    "def evaluate_model(data, ms_iter = multi_starts_BIC):\n",
    "\n",
    "    #Returns true if the moX is better than the biX --> returns a 1 for moX and a 0 for biX\n",
    "    #Returns the parameters of the correct answer\n",
    "\n",
    "    RSS_biX = np.inf\n",
    "    RSS_moX = np.inf\n",
    "\n",
    "    for ms in range(ms_iter):\n",
    "        popt_biX_temp, RSS_biX_temp = estP_oneCurve(S_biX_4p, data)\n",
    "        popt_moX_temp, RSS_moX_temp = estP_oneCurve(S_moX_2p, data)\n",
    "\n",
    "        if RSS_biX_temp < RSS_biX:\n",
    "            popt_biX = popt_biX_temp\n",
    "            RSS_biX = RSS_biX_temp\n",
    "\n",
    "        if RSS_moX_temp < RSS_moX:\n",
    "            popt_moX = popt_moX_temp\n",
    "            RSS_moX = RSS_moX_temp\n",
    "\n",
    "    # popt_biX, RSS_biX = estP_oneCurve(S_biX_4p, data)\n",
    "    # popt_moX, RSS_moX = estP_oneCurve(S_moX_2p, data)\n",
    "\n",
    "    BIC_biX = BIC_opt1(RSS_biX, TE_DATA, popt_biX, 1/SNR_value)\n",
    "    BIC_moX = BIC_opt1(RSS_moX, TE_DATA, popt_moX, 1/SNR_value)\n",
    "\n",
    "    if BIC_moX < BIC_biX:\n",
    "        return True, popt_moX, RSS_moX\n",
    "    else:\n",
    "        return False, popt_biX, RSS_biX\n"
   ]
  },
  {
   "cell_type": "code",
   "execution_count": 25,
   "metadata": {},
   "outputs": [],
   "source": [
    "def list_objective_func(param_est, data_2d, TI_array, X_list):\n",
    "    assert(data_2d.shape[0] == len(TI_array))\n",
    "    assert(len(X_list) == len(TI_array))\n",
    "\n",
    "    curve_RSS = 0\n",
    "\n",
    "    X_truth = [elem == \"BiX\" for elem in X_list]\n",
    "\n",
    "    for iter in range(len(X_truth)):\n",
    "        if X_truth[iter]:\n",
    "            RSS_add = calculate_RSS_TI(S_biX_6p, param_est, TI_array[iter], data_2d[iter,:])\n",
    "        else:\n",
    "            if data_2d[iter,0] < 0:\n",
    "                #first null point -> that means that only the long parameters with the two are used\n",
    "                RSS_add = calculate_RSS_TI(S_moX_3p, [param_est[-5], param_est[-3], param_est[-1]], TI_array[iter], data_2d[iter,:])\n",
    "            else:\n",
    "                #second null point -> that means that only the short parameters with the two are used\n",
    "                RSS_add = calculate_RSS_TI(S_moX_3p, [param_est[-6], param_est[-4], param_est[-2]], TI_array[iter], data_2d[iter,:])\n",
    "\n",
    "        curve_RSS += RSS_add\n",
    "\n",
    "    return curve_RSS\n",
    "\n",
    "def RSS_obj_func(popt, data, TI_val, func):\n",
    "    est_curve = func(TE_DATA, *popt, TI = TI_val)\n",
    "    RSS = np.sum((est_curve - data)**2)\n",
    "    \n",
    "    return RSS"
   ]
  },
  {
   "cell_type": "code",
   "execution_count": 26,
   "metadata": {},
   "outputs": [],
   "source": [
    "def calc_MSE(paramStore, true_params, clipped = False):\n",
    "    varMat = np.var(paramStore, axis=0)\n",
    "    biMat = np.mean(paramStore, axis = 0) - true_params  #E[p_hat] - p_true\n",
    "    MSEMat = varMat + biMat**2\n",
    "    if clipped:\n",
    "        return MSEMat[-4:], biMat[-4:], varMat[-4:]\n",
    "    return MSEMat, varMat, biMat"
   ]
  },
  {
   "cell_type": "markdown",
   "metadata": {},
   "source": [
    "# Iterative Fitting"
   ]
  },
  {
   "cell_type": "code",
   "execution_count": 27,
   "metadata": {},
   "outputs": [
    {
     "name": "stderr",
     "output_type": "stream",
     "text": [
      "  0%|          | 0/1000 [00:00<?, ?it/s]"
     ]
    },
    {
     "name": "stderr",
     "output_type": "stream",
     "text": [
      "100%|██████████| 1000/1000 [05:34<00:00,  2.99it/s]\n",
      "100%|██████████| 1000/1000 [05:15<00:00,  3.17it/s]\n",
      "100%|██████████| 1000/1000 [07:39<00:00,  2.18it/s]\n",
      "100%|██████████| 1000/1000 [06:53<00:00,  2.42it/s]\n",
      "100%|██████████| 1000/1000 [05:58<00:00,  2.79it/s]\n",
      "100%|██████████| 1000/1000 [07:21<00:00,  2.27it/s]\n",
      "100%|██████████| 1000/1000 [09:31<00:00,  1.75it/s]\n",
      " 24%|██▎       | 235/1000 [01:36<36:28,  2.86s/it]"
     ]
    },
    {
     "name": "stdout",
     "output_type": "stream",
     "text": [
      "No Optimum found\n"
     ]
    },
    {
     "name": "stderr",
     "output_type": "stream",
     "text": [
      "100%|██████████| 1000/1000 [07:05<00:00,  2.35it/s]\n",
      "100%|██████████| 1000/1000 [05:37<00:00,  2.97it/s]\n",
      "100%|██████████| 1000/1000 [04:22<00:00,  3.81it/s]\n",
      "100%|██████████| 1000/1000 [04:23<00:00,  3.80it/s]\n",
      "100%|██████████| 1000/1000 [04:46<00:00,  3.49it/s]\n",
      "100%|██████████| 1000/1000 [05:59<00:00,  2.78it/s]\n",
      " 90%|█████████ | 902/1000 [06:15<04:56,  3.02s/it]"
     ]
    },
    {
     "name": "stdout",
     "output_type": "stream",
     "text": [
      "No Optimum found\n"
     ]
    },
    {
     "name": "stderr",
     "output_type": "stream",
     "text": [
      "100%|██████████| 1000/1000 [06:56<00:00,  2.40it/s]\n",
      " 26%|██▌       | 257/1000 [01:37<33:17,  2.69s/it]"
     ]
    },
    {
     "name": "stdout",
     "output_type": "stream",
     "text": [
      "No Optimum found\n"
     ]
    },
    {
     "name": "stderr",
     "output_type": "stream",
     "text": [
      "100%|██████████| 1000/1000 [05:35<00:00,  2.98it/s]\n",
      "100%|██████████| 1000/1000 [05:35<00:00,  2.98it/s]\n",
      " 42%|████▏     | 421/1000 [03:58<57:46,  5.99s/it]"
     ]
    },
    {
     "name": "stdout",
     "output_type": "stream",
     "text": [
      "No Optimum found\n"
     ]
    },
    {
     "name": "stderr",
     "output_type": "stream",
     "text": [
      "100%|██████████| 1000/1000 [09:05<00:00,  1.83it/s]\n",
      "100%|██████████| 1000/1000 [07:54<00:00,  2.11it/s]\n",
      "100%|██████████| 1000/1000 [10:31<00:00,  1.58it/s]\n",
      " 99%|█████████▉| 992/1000 [09:20<00:27,  3.42s/it]"
     ]
    },
    {
     "name": "stdout",
     "output_type": "stream",
     "text": [
      "No Optimum found\n"
     ]
    },
    {
     "name": "stderr",
     "output_type": "stream",
     "text": [
      "100%|██████████| 1000/1000 [09:24<00:00,  1.77it/s]\n",
      "100%|██████████| 1000/1000 [07:47<00:00,  2.14it/s]\n",
      " 39%|███▉      | 389/1000 [02:23<25:32,  2.51s/it]"
     ]
    },
    {
     "name": "stdout",
     "output_type": "stream",
     "text": [
      "No Optimum found\n"
     ]
    },
    {
     "name": "stderr",
     "output_type": "stream",
     "text": [
      "100%|██████████| 1000/1000 [05:21<00:00,  3.11it/s]\n",
      " 74%|███████▎  | 735/1000 [03:15<08:08,  1.84s/it]"
     ]
    },
    {
     "name": "stdout",
     "output_type": "stream",
     "text": [
      "No Optimum found\n"
     ]
    },
    {
     "name": "stderr",
     "output_type": "stream",
     "text": [
      "100%|██████████| 1000/1000 [04:18<00:00,  3.86it/s]\n",
      "100%|██████████| 1000/1000 [04:24<00:00,  3.78it/s]\n",
      " 86%|████████▌ | 856/1000 [05:06<05:47,  2.41s/it]"
     ]
    },
    {
     "name": "stdout",
     "output_type": "stream",
     "text": [
      "No Optimum found\n"
     ]
    },
    {
     "name": "stderr",
     "output_type": "stream",
     "text": [
      "100%|██████████| 1000/1000 [06:10<00:00,  2.70it/s]\n",
      " 12%|█▏        | 117/1000 [00:56<39:20,  2.67s/it]"
     ]
    },
    {
     "name": "stdout",
     "output_type": "stream",
     "text": [
      "No Optimum found\n"
     ]
    },
    {
     "name": "stderr",
     "output_type": "stream",
     "text": [
      " 22%|██▏       | 220/1000 [01:59<35:31,  2.73s/it]"
     ]
    },
    {
     "name": "stdout",
     "output_type": "stream",
     "text": [
      "No Optimum found\n"
     ]
    },
    {
     "name": "stderr",
     "output_type": "stream",
     "text": [
      " 44%|████▍     | 444/1000 [03:34<23:59,  2.59s/it]"
     ]
    },
    {
     "name": "stdout",
     "output_type": "stream",
     "text": [
      "No Optimum found\n"
     ]
    },
    {
     "name": "stderr",
     "output_type": "stream",
     "text": [
      " 65%|██████▌   | 651/1000 [05:04<14:24,  2.48s/it]"
     ]
    },
    {
     "name": "stdout",
     "output_type": "stream",
     "text": [
      "No Optimum found\n"
     ]
    },
    {
     "name": "stderr",
     "output_type": "stream",
     "text": [
      "100%|██████████| 1000/1000 [07:17<00:00,  2.29it/s]\n",
      " 77%|███████▋  | 766/1000 [04:02<08:59,  2.31s/it]"
     ]
    },
    {
     "name": "stdout",
     "output_type": "stream",
     "text": [
      "No Optimum found\n"
     ]
    },
    {
     "name": "stderr",
     "output_type": "stream",
     "text": [
      "100%|██████████| 1000/1000 [05:25<00:00,  3.07it/s]\n",
      " 48%|████▊     | 476/1000 [02:18<17:55,  2.05s/it]"
     ]
    },
    {
     "name": "stdout",
     "output_type": "stream",
     "text": [
      "No Optimum found\n"
     ]
    },
    {
     "name": "stderr",
     "output_type": "stream",
     "text": [
      "100%|██████████| 1000/1000 [05:01<00:00,  3.31it/s]\n",
      " 30%|███       | 303/1000 [01:26<21:29,  1.85s/it]"
     ]
    },
    {
     "name": "stdout",
     "output_type": "stream",
     "text": [
      "No Optimum found\n"
     ]
    },
    {
     "name": "stderr",
     "output_type": "stream",
     "text": [
      "100%|██████████| 1000/1000 [04:29<00:00,  3.71it/s]\n",
      "100%|██████████| 1000/1000 [06:53<00:00,  2.42it/s]\n",
      "  7%|▋         | 74/1000 [00:33<33:33,  2.17s/it]"
     ]
    },
    {
     "name": "stdout",
     "output_type": "stream",
     "text": [
      "No Optimum found\n"
     ]
    },
    {
     "name": "stderr",
     "output_type": "stream",
     "text": [
      " 10%|█         | 103/1000 [01:01<43:22,  2.90s/it]"
     ]
    },
    {
     "name": "stdout",
     "output_type": "stream",
     "text": [
      "No Optimum found\n"
     ]
    },
    {
     "name": "stderr",
     "output_type": "stream",
     "text": [
      " 41%|████      | 411/1000 [03:27<24:56,  2.54s/it]"
     ]
    },
    {
     "name": "stdout",
     "output_type": "stream",
     "text": [
      "No Optimum found\n"
     ]
    },
    {
     "name": "stderr",
     "output_type": "stream",
     "text": [
      " 79%|███████▉  | 794/1000 [06:34<10:22,  3.02s/it]"
     ]
    },
    {
     "name": "stdout",
     "output_type": "stream",
     "text": [
      "No Optimum found\n"
     ]
    },
    {
     "name": "stderr",
     "output_type": "stream",
     "text": [
      "100%|██████████| 1000/1000 [08:34<00:00,  1.94it/s]\n",
      "100%|██████████| 1000/1000 [07:44<00:00,  2.15it/s]\n",
      "100%|██████████| 1000/1000 [09:01<00:00,  1.85it/s]\n",
      " 94%|█████████▍| 940/1000 [07:17<04:00,  4.01s/it]"
     ]
    },
    {
     "name": "stdout",
     "output_type": "stream",
     "text": [
      "No Optimum found\n"
     ]
    },
    {
     "name": "stderr",
     "output_type": "stream",
     "text": [
      "100%|██████████| 1000/1000 [08:00<00:00,  2.08it/s]\n",
      " 21%|██        | 212/1000 [02:15<10:03,  1.31it/s]"
     ]
    },
    {
     "name": "stdout",
     "output_type": "stream",
     "text": [
      "No Optimum found\n"
     ]
    },
    {
     "name": "stderr",
     "output_type": "stream",
     "text": [
      " 25%|██▍       | 246/1000 [03:07<1:15:46,  6.03s/it]"
     ]
    },
    {
     "name": "stdout",
     "output_type": "stream",
     "text": [
      "No Optimum found\n"
     ]
    },
    {
     "name": "stderr",
     "output_type": "stream",
     "text": [
      "100%|██████████| 1000/1000 [09:49<00:00,  1.70it/s] \n",
      "  1%|▏         | 14/1000 [00:15<53:09,  3.23s/it]"
     ]
    },
    {
     "name": "stdout",
     "output_type": "stream",
     "text": [
      "No Optimum found\n"
     ]
    },
    {
     "name": "stderr",
     "output_type": "stream",
     "text": [
      " 28%|██▊       | 281/1000 [02:32<43:03,  3.59s/it]"
     ]
    },
    {
     "name": "stdout",
     "output_type": "stream",
     "text": [
      "No Optimum found\n"
     ]
    },
    {
     "name": "stderr",
     "output_type": "stream",
     "text": [
      " 38%|███▊      | 380/1000 [03:34<34:02,  3.29s/it]"
     ]
    },
    {
     "name": "stdout",
     "output_type": "stream",
     "text": [
      "No Optimum found\n"
     ]
    },
    {
     "name": "stderr",
     "output_type": "stream",
     "text": [
      " 89%|████████▉ | 893/1000 [07:52<05:38,  3.16s/it]"
     ]
    },
    {
     "name": "stdout",
     "output_type": "stream",
     "text": [
      "No Optimum found\n"
     ]
    },
    {
     "name": "stderr",
     "output_type": "stream",
     "text": [
      "100%|██████████| 1000/1000 [08:37<00:00,  1.93it/s]\n"
     ]
    }
   ],
   "source": [
    "#reshaping the bounds for the minimization function\n",
    "lb, ub = get_func_bounds(S_biX_6p)\n",
    "bnd_cat = [lb,ub]\n",
    "bnd_cat = np.array(bnd_cat)\n",
    "bnd_cat = np.transpose(bnd_cat)\n",
    "bnds = bnd_cat.tolist()\n",
    "\n",
    "MSE_byTI_array = np.zeros((3, len(TI2_region), len(TI1_region)))\n",
    "var_byTI_array = np.zeros((3, len(TI2_region), len(TI1_region)))\n",
    "bias_byTI_array = np.zeros((3, len(TI2_region), len(TI1_region)))\n",
    "\n",
    "moX_assess_array = np.zeros((3, len(TI2_region), len(TI1_region)))\n",
    "\n",
    "for iter_np1 in trange(len(TI2_region)):\n",
    "    for iter_np2 in range(len(TI1_region)):\n",
    "\n",
    "        #Collect temporary TI values\n",
    "        TI1_temp = np.floor(TI1star)+TI1_region[iter_np1]\n",
    "        TI2_temp = np.floor(TI2star)+TI2_region[iter_np2]\n",
    "\n",
    "        TI_DATA = [0, TI1_temp, TI2_temp]\n",
    "\n",
    "        signal_array = np.zeros([len(TI_DATA), len(TE_DATA)])\n",
    "        #Generate signal array from temp values\n",
    "        for iTI in range(len(TI_DATA)):\n",
    "            signal_array[iTI,:] = S_biX_6p(TE_DATA, *true_params, TI = TI_DATA[iTI])\n",
    "\n",
    "        #Temp Parameter matrices\n",
    "        param_est_BIC = np.zeros((var_reps, len(true_params)))\n",
    "        param_est_cvn = np.zeros((var_reps, len(true_params)))\n",
    "        param_est_cF = np.zeros((var_reps, len(true_params)))\n",
    "\n",
    "\n",
    "        #Collect the frequency of BIC assessments moX\n",
    "        BIC_moXassessments = np.zeros(len(TI_DATA))\n",
    "\n",
    "        #Building the ravel arrays for the curve_fit comparison\n",
    "        mTE, mTI = np.meshgrid(TE_DATA, TI_DATA)\n",
    "\n",
    "        vecT = np.vstack((mTE.ravel(), mTI.ravel())) #flattens the data points\n",
    "\n",
    "        curve_options = [\"BiX\", \"MoX\"] #This implies that a truth for evaluate is moX and a false is biX\n",
    "\n",
    "        # print(f\"Running {var_reps} noisy realization with {multi_starts_obj} multi start locations for each noisy realization\")\n",
    "\n",
    "        #iterating through noise repetitions\n",
    "        for rep in range(var_reps):\n",
    "\n",
    "            noised_data = add_noise(signal_array, SNR_value)\n",
    "\n",
    "            list_curve_BIC = []\n",
    "            list_curve_cvn = []\n",
    "\n",
    "            for iter in range(noised_data.shape[0]):\n",
    "                mox_opt_iter, _, _ = evaluate_model(noised_data[iter,:])\n",
    "                BIC_moXassessments[iter] += mox_opt_iter\n",
    "                list_curve_BIC.append(curve_options[mox_opt_iter])\n",
    "                list_curve_cvn.append(curve_options[0])\n",
    "\n",
    "            cF_fval = np.inf\n",
    "\n",
    "            for ms_iter in range(multi_starts_obj):\n",
    "                init_p = set_p0(S_biX_6p, random = randStart)\n",
    "                \n",
    "                try:\n",
    "                    vecS = noised_data.ravel()\n",
    "                    popt_temp, _ = curve_fit(S_biX_6p_ravel, vecT, vecS, p0 = init_p, bounds = [lb, ub], method = 'trf', maxfev = 5000)\n",
    "                    RSS_cF_array = []\n",
    "                    for iter in range(noised_data.shape[0]):\n",
    "                        RSS_cF_array.append(calculate_RSS_TI(S_biX_6p, popt_temp, TI_DATA[iter], noised_data[iter,:]))\n",
    "                    RSS_cF_temp = np.sum(RSS_cF_array)\n",
    "                    if RSS_cF_temp < cF_fval:\n",
    "                        popt = popt_temp\n",
    "                        RSS_cF = RSS_cF_temp\n",
    "                        cF_fval = RSS_cF_temp\n",
    "                except:\n",
    "                    print(\"No Optimum found\")\n",
    "\n",
    "            res_BIC = minimize(list_objective_func, popt, args = (noised_data, TI_DATA, list_curve_BIC), method = 'Nelder-Mead', bounds = bnds, options = {'maxiter': 4000, 'disp': False})\n",
    "            \n",
    "            res_cvn = minimize(list_objective_func, popt, args = (noised_data, TI_DATA, list_curve_cvn), method = 'Nelder-Mead', bounds = bnds, options = {'maxiter': 4000, 'disp': False})\n",
    "\n",
    "            #Pulling relevant BIC objective function parts\n",
    "            param_est_BIC[rep,:] = check_param_order(res_BIC.x)\n",
    "\n",
    "            #Pulling relevant cvn objective function parts\n",
    "            param_est_cvn[rep,:] = check_param_order(res_cvn.x)\n",
    "\n",
    "            #Pulling relevant cF objective function parts\n",
    "            param_est_cF[rep,:] = check_param_order(popt)\n",
    "\n",
    "        MSEMat, varMat, biasMat = calc_MSE(param_est_BIC, true_params)\n",
    "        MSE_byTI_array[0, iter_np2, iter_np1], var_byTI_array[0, iter_np2, iter_np1], bias_byTI_array[0, iter_np2, iter_np1] = [MSEMat[-4], varMat[-4], biasMat[-4]]\n",
    "        MSEMat, varMat, biasMat = calc_MSE(param_est_cvn, true_params)\n",
    "        MSE_byTI_array[1, iter_np2, iter_np1], var_byTI_array[1, iter_np2, iter_np1], bias_byTI_array[1, iter_np2, iter_np1] = [MSEMat[-4], varMat[-4], biasMat[-4]]\n",
    "        MSEMat, varMat, biasMat = calc_MSE(param_est_cF, true_params)\n",
    "        MSE_byTI_array[2, iter_np2, iter_np1], var_byTI_array[2, iter_np2, iter_np1], bias_byTI_array[2, iter_np2, iter_np1] = [MSEMat[-4], varMat[-4], biasMat[-4]]\n",
    "\n",
    "        moX_assess_array[:, iter_np2, iter_np1] = BIC_moXassessments/var_reps\n",
    "\n"
   ]
  },
  {
   "cell_type": "code",
   "execution_count": 48,
   "metadata": {},
   "outputs": [],
   "source": [
    "MSE_max = np.max(MSE_byTI_array)\n",
    "var_max = np.max(var_byTI_array)\n",
    "biasSq_max = np.max(bias_byTI_array**2)\n",
    "\n",
    "num_steps = 30\n",
    "MSE_bin_array = np.arange(0, 1.05*MSE_max, MSE_max/num_steps)\n",
    "var_byTI_array_bin_array = np.arange(0, 1.05*var_max, var_max/num_steps)\n",
    "biasSq_bin_array = np.arange(0, 1.05*biasSq_max, biasSq_max/num_steps)\n"
   ]
  },
  {
   "cell_type": "code",
   "execution_count": 44,
   "metadata": {},
   "outputs": [],
   "source": [
    "interval_length_TI1 = int_lengh_opt1(R0_coeff_TI1, n_TE, TE_step, SNR_value)\n",
    "\n",
    "low_TI1 = TI1star - interval_length_TI1\n",
    "high_TI1 = TI1star + interval_length_TI1\n",
    "\n",
    "interval_length_TI2 = int_lengh_opt1(R0_coeff_TI2, n_TE, TE_step, SNR_value)\n",
    "\n",
    "low_TI2 = TI2star - interval_length_TI2\n",
    "high_TI2 = TI2star + interval_length_TI2"
   ]
  },
  {
   "cell_type": "code",
   "execution_count": 52,
   "metadata": {},
   "outputs": [
    {
     "data": {
      "image/png": "[encoded data removed]",
      "text/plain": [
       "<Figure size 900x550 with 4 Axes>"
      ]
     },
     "metadata": {},
     "output_type": "display_data"
    }
   ],
   "source": [
    "mTI_np1, mTI_np2 = np.meshgrid(np.floor(TI1star)+TI1_region, np.floor(TI2star)+TI2_region)\n",
    "ordering = [\"COFFEE\", \"Conventional\", \"Curve Fit\"]\n",
    "\n",
    "fig, ax = plt.subplots(1, 2, figsize=(9,5.5), tight_layout=True)\n",
    "fig.suptitle(f\"BIC MSE Measurements\\nSNR = {SNR_value}\\n{ParamTitle_6p} = [{T11},{T12},{c1},{c2},{T21},{T22}]\")\n",
    "\n",
    "for iter in range(2):\n",
    "\n",
    "    cp = ax[iter].contourf(mTI_np1, mTI_np2, MSE_byTI_array[iter,:,:], levels = MSE_bin_array, cmap = 'turbo')\n",
    "    cb = fig.colorbar(cp, ax = ax[iter], location = 'bottom')\n",
    "    cb.locator = MultipleLocator(0.005)\n",
    "    cb.update_ticks()\n",
    "\n",
    "    ax[iter].axhline(y = TI2star, color = 'k', ls = '-.', label = 'Null Point 2')\n",
    "    ax[iter].axhline(y = low_TI2, color = 'm')\n",
    "    ax[iter].axhline(y = high_TI2, color = 'm')\n",
    "    ax[iter].axvline(x = TI1star, color = 'k', ls = '--', label = 'Null Point 1')\n",
    "    ax[iter].axvline(x = low_TI1, color = 'm')\n",
    "    ax[iter].axvline(x = high_TI1, color = 'm')\n",
    "    ax[iter].plot(mTI_np1, mTI_np2, ls = '', marker = 'o', color = 'g')\n",
    "\n",
    "    ax[iter].set_xlabel('Inversion Time (ms)')\n",
    "    ax[iter].set_ylabel('Inversion Time (ms)')\n",
    "    ax[iter].set_title(f'MSE for {ordering[iter]}')\n"
   ]
  }
 ],
 "metadata": {
  "kernelspec": {
   "display_name": "Python 3",
   "language": "python",
   "name": "python3"
  },
  "language_info": {
   "codemirror_mode": {
    "name": "ipython",
    "version": 3
   },
   "file_extension": ".py",
   "mimetype": "text/x-python",
   "name": "python",
   "nbconvert_exporter": "python",
   "pygments_lexer": "ipython3",
   "version": "3.10.7"
  },
  "orig_nbformat": 4
 },
 "nbformat": 4,
 "nbformat_minor": 2
}
